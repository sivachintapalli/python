{
 "cells": [
  {
   "cell_type": "code",
   "execution_count": 99,
   "metadata": {},
   "outputs": [],
   "source": [
    "def sent_rev(str):\n",
    "    words=[]\n",
    "    length = len(str)\n",
    "    space =[' ']\n",
    "    i=0\n",
    "    #print (length)\n",
    "    while i < length:        \n",
    "        if str[i] not in space:\n",
    "            word_start=i\n",
    "            while i < length and str[i] not in space:\n",
    "                i+=1\n",
    "            words.append(str[word_start:i])\n",
    "            #print (words)\n",
    "        i+=1\n",
    "    #return \" \".join(reversed(words))  \n",
    "    j=len(words)\n",
    "    final_str=''\n",
    "    while j>0:\n",
    "        final_str=final_str+' '+words[j-1]\n",
    "        j=j-1\n",
    "    \n",
    "    print (final_str)\n",
    "            \n",
    "    \n",
    "    \n",
    "    \n",
    "            \n",
    "        "
   ]
  },
  {
   "cell_type": "code",
   "execution_count": 100,
   "metadata": {},
   "outputs": [
    {
     "name": "stdout",
     "output_type": "stream",
     "text": [
      " hola hello\n"
     ]
    }
   ],
   "source": [
    "sent_rev(' hello hola')"
   ]
  },
  {
   "cell_type": "code",
   "execution_count": null,
   "metadata": {},
   "outputs": [],
   "source": []
  },
  {
   "cell_type": "code",
   "execution_count": null,
   "metadata": {},
   "outputs": [],
   "source": []
  }
 ],
 "metadata": {
  "kernelspec": {
   "display_name": "Python 3",
   "language": "python",
   "name": "python3"
  },
  "language_info": {
   "codemirror_mode": {
    "name": "ipython",
    "version": 3
   },
   "file_extension": ".py",
   "mimetype": "text/x-python",
   "name": "python",
   "nbconvert_exporter": "python",
   "pygments_lexer": "ipython3",
   "version": "3.7.3"
  }
 },
 "nbformat": 4,
 "nbformat_minor": 2
}
