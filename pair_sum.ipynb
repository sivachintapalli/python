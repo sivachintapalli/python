{
 "cells": [
  {
   "cell_type": "code",
   "execution_count": 86,
   "metadata": {},
   "outputs": [],
   "source": [
    "def pair_sum(arr,k):\n",
    "    \n",
    "    if len(arr)<2:\n",
    "        return\n",
    "    \n",
    "    checked = set()\n",
    "    output  = set()\n",
    "    \n",
    "    for num in arr:\n",
    "        diff=k-num\n",
    "        #print ('num',num)        \n",
    "        #print ('diff',diff)    \n",
    "        if diff not in checked:\n",
    "            checked.add(num)\n",
    "            #print('checked',checked)\n",
    "        else:\n",
    "            #print('min',min(num,diff)) \n",
    "            #print('max',max(num,diff))            \n",
    "            output.add((min(num,diff),max(num,diff)))\n",
    "    #print ('out_put',output)\n",
    "    print ('\\n'.join(map(str,list(output))) )\n"
   ]
  },
  {
   "cell_type": "code",
   "execution_count": 87,
   "metadata": {},
   "outputs": [
    {
     "name": "stdout",
     "output_type": "stream",
     "text": [
      "(1, 3)\n",
      "(2, 2)\n"
     ]
    }
   ],
   "source": [
    "pair_sum([1,2,3,2,2,2,10,5],4)"
   ]
  },
  {
   "cell_type": "code",
   "execution_count": null,
   "metadata": {},
   "outputs": [],
   "source": []
  },
  {
   "cell_type": "code",
   "execution_count": null,
   "metadata": {},
   "outputs": [],
   "source": []
  }
 ],
 "metadata": {
  "kernelspec": {
   "display_name": "Python 3",
   "language": "python",
   "name": "python3"
  },
  "language_info": {
   "codemirror_mode": {
    "name": "ipython",
    "version": 3
   },
   "file_extension": ".py",
   "mimetype": "text/x-python",
   "name": "python",
   "nbconvert_exporter": "python",
   "pygments_lexer": "ipython3",
   "version": "3.7.3"
  }
 },
 "nbformat": 4,
 "nbformat_minor": 2
}
